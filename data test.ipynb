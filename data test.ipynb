{
 "cells": [
  {
   "cell_type": "code",
   "execution_count": 5,
   "id": "f4ab9072",
   "metadata": {},
   "outputs": [],
   "source": [
    "%load_ext autoreload\n",
    "%autoreload 2"
   ]
  },
  {
   "cell_type": "code",
   "execution_count": 6,
   "id": "75751ed1",
   "metadata": {
    "scrolled": true
   },
   "outputs": [],
   "source": [
    "from datasets import dataset_dict\n",
    "dataset = dataset_dict['tum']\n",
    "ds = dataset(split='val', root_dir='datasets/data/rgbd_dataset_freiburg1_xyz')"
   ]
  },
  {
   "cell_type": "code",
   "execution_count": 15,
   "id": "7f48f69d",
   "metadata": {
    "scrolled": false
   },
   "outputs": [
    {
     "name": "stdout",
     "output_type": "stream",
     "text": [
      "torch.Size([3, 480, 640])\n",
      "torch.Size([307200, 3])\n",
      "torch.Size([3, 480, 640])\n",
      "torch.Size([307200, 3])\n"
     ]
    },
    {
     "data": {
      "text/plain": [
       "(torch.Size([307200, 3]), torch.Size([307200, 8]))"
      ]
     },
     "execution_count": 15,
     "metadata": {},
     "output_type": "execute_result"
    }
   ],
   "source": [
    "ds[0]['rgbs'].shape, ds[0]['rays'].shape"
   ]
  },
  {
   "cell_type": "code",
   "execution_count": null,
   "id": "ee53d0ff",
   "metadata": {},
   "outputs": [],
   "source": []
  }
 ],
 "metadata": {
  "kernelspec": {
   "display_name": "Python 3",
   "language": "python",
   "name": "python3"
  },
  "language_info": {
   "codemirror_mode": {
    "name": "ipython",
    "version": 3
   },
   "file_extension": ".py",
   "mimetype": "text/x-python",
   "name": "python",
   "nbconvert_exporter": "python",
   "pygments_lexer": "ipython3",
   "version": "3.7.11"
  }
 },
 "nbformat": 4,
 "nbformat_minor": 5
}
